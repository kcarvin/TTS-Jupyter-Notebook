{
 "cells": [
  {
   "cell_type": "markdown",
   "id": "fa5deec7",
   "metadata": {},
   "source": [
    "1. Accept the user's first and last name and print them in reverse order with a space between them"
   ]
  },
  {
   "cell_type": "code",
   "execution_count": 7,
   "id": "8fbcb477",
   "metadata": {},
   "outputs": [
    {
     "name": "stdout",
     "output_type": "stream",
     "text": [
      "Input your First Name : Keshunna\n",
      "Input your Last Name : Carvin\n",
      "Hello Carvin Keshunna\n"
     ]
    }
   ],
   "source": [
    "firstname = input(\"Input your First Name : \")\n",
    "lastname = input(\"Input your Last Name : \")\n",
    "print(\"Hello \" + lastname + \" \" + firstname)\n",
    "\n",
    "#user inputs string for their first name, last name, returns with print statement"
   ]
  },
  {
   "cell_type": "markdown",
   "id": "5b4eb5b1",
   "metadata": {},
   "source": [
    "2. Accept an integer (n) input from the user and compute the value of n+nn+nnn. For example if n=4 then n + nn + nnn = 4 + 44 + 444 = 492"
   ]
  },
  {
   "cell_type": "code",
   "execution_count": 14,
   "id": "5e1c0309",
   "metadata": {},
   "outputs": [
    {
     "name": "stdout",
     "output_type": "stream",
     "text": [
      "Enter a value to be equal to n:4\n",
      "492\n"
     ]
    }
   ],
   "source": [
    "n = str(input(\"Enter a value to be equal to n:\"))\n",
    "evaluate = int(n) + int(n+n) + int(n+n+n)\n",
    "print(evaluate)\n",
    "\n",
    "#take n in as a string, concatenate for \"n+n\" and \"n+n+n\", return n to the int type and evaluate statement"
   ]
  },
  {
   "cell_type": "markdown",
   "id": "04160b8d",
   "metadata": {},
   "source": [
    "3. Ask the user \"What country are you from?\" then print the following statement: \"I have heard that [input] is a beautiful country!\""
   ]
  },
  {
   "cell_type": "code",
   "execution_count": 6,
   "id": "36bf6b5d",
   "metadata": {},
   "outputs": [
    {
     "name": "stdout",
     "output_type": "stream",
     "text": [
      "What country are you from?: Anguilla\n",
      "I have heard Anguilla is a beautiful country!\n"
     ]
    }
   ],
   "source": [
    "country = input(\"What country are you from?: \")\n",
    "print (\"I have heard \" + country + \" is a beautiful country!\")\n",
    "\n",
    "#user inputs string for country name, returns with print statement"
   ]
  },
  {
   "cell_type": "markdown",
   "id": "a84d9c3c",
   "metadata": {},
   "source": [
    "4. What is the output of the following Python code\n",
    "\n",
    "x = 10\n",
    "y = 50\n",
    "if (x ** 2 > 100 and y < 100):\n",
    "    print(x, y)"
   ]
  },
  {
   "cell_type": "code",
   "execution_count": 13,
   "id": "4ccc64a1",
   "metadata": {},
   "outputs": [],
   "source": [
    "x = 10\n",
    "y = 50\n",
    "if (x ** 2 > 100 and y < 100):\n",
    "    print(x, y)\n",
    "    \n",
    "#print statement returns NONE because 10 to the second power equals 100"
   ]
  },
  {
   "cell_type": "markdown",
   "id": "6c872bf5",
   "metadata": {},
   "source": [
    "5. What is the output of the following addition (+) operator, and why does this code chunk execute this way?\n",
    "\n",
    "a = [10, 20]\n",
    "b = a\n",
    "b += [30, 40]\n",
    "print(a)\n",
    "print(b)"
   ]
  },
  {
   "cell_type": "code",
   "execution_count": 11,
   "id": "96490cb9",
   "metadata": {
    "scrolled": true
   },
   "outputs": [
    {
     "name": "stdout",
     "output_type": "stream",
     "text": [
      "[10, 20, 30, 40]\n",
      "[10, 20, 30, 40]\n"
     ]
    }
   ],
   "source": [
    "a = [10, 20]\n",
    "b = a\n",
    "b += [30, 40]\n",
    "print(a)\n",
    "print(b)\n",
    "\n",
    "#output will print two identical lists with [30,40] ammended to both lists, since b was set to equal to a"
   ]
  },
  {
   "cell_type": "markdown",
   "id": "21bc379d",
   "metadata": {},
   "source": [
    "6. What is the output of the following code and what arithmetic operators is being used here? print(2%6)"
   ]
  },
  {
   "cell_type": "code",
   "execution_count": 9,
   "id": "2b26ebc1",
   "metadata": {},
   "outputs": [
    {
     "name": "stdout",
     "output_type": "stream",
     "text": [
      "2\n"
     ]
    }
   ],
   "source": [
    "print(2%6)\n",
    "\n",
    "#print statement returns 2 because 2 is the remainder of the function when divided by 6. Modulus always returns the remainder of the function."
   ]
  },
  {
   "cell_type": "markdown",
   "id": "90590c98",
   "metadata": {},
   "source": [
    "7. What is the output of the following code and what arithmetic operators are used here?"
   ]
  },
  {
   "cell_type": "code",
   "execution_count": 10,
   "id": "9497788a",
   "metadata": {},
   "outputs": [
    {
     "name": "stdout",
     "output_type": "stream",
     "text": [
      "216\n"
     ]
    }
   ],
   "source": [
    "print(2 * 3 ** 3 * 4)\n",
    "\n",
    "#print statement returns 216. Using (PEMDAS) order of operations, first evaluate the exponents in the code (3*3) then evaluat ethe remaining multiples from left to right (2274)=(544)=(216)"
   ]
  },
  {
   "cell_type": "markdown",
   "id": "5e08166b",
   "metadata": {},
   "source": [
    "8. What is a text editor?"
   ]
  },
  {
   "cell_type": "code",
   "execution_count": null,
   "id": "9a538c1d",
   "metadata": {},
   "outputs": [],
   "source": [
    "#A text editor is a non-interactive environment where you can create a code file, which can be run in a command line environment or an IDE."
   ]
  },
  {
   "cell_type": "markdown",
   "id": "81775419",
   "metadata": {},
   "source": [
    "9. What is python?"
   ]
  },
  {
   "cell_type": "code",
   "execution_count": null,
   "id": "8f508409",
   "metadata": {},
   "outputs": [],
   "source": [
    "#Python is a high-level, interpreted, general-purpose programming language."
   ]
  },
  {
   "cell_type": "markdown",
   "id": "5c9bf129",
   "metadata": {},
   "source": [
    "10. What is jupyter notebook, what type of python environment is it, and what alternatives are there to jupyter notebook?"
   ]
  },
  {
   "cell_type": "code",
   "execution_count": null,
   "id": "c890b511",
   "metadata": {},
   "outputs": [],
   "source": [
    "#Jupyter Notebok is an Integrated Development Environment (IDE). Alternatives to are PyCharm, Pydev, and Sublime Text."
   ]
  }
 ],
 "metadata": {
  "kernelspec": {
   "display_name": "Python 3 (ipykernel)",
   "language": "python",
   "name": "python3"
  },
  "language_info": {
   "codemirror_mode": {
    "name": "ipython",
    "version": 3
   },
   "file_extension": ".py",
   "mimetype": "text/x-python",
   "name": "python",
   "nbconvert_exporter": "python",
   "pygments_lexer": "ipython3",
   "version": "3.9.7"
  }
 },
 "nbformat": 4,
 "nbformat_minor": 5
}
